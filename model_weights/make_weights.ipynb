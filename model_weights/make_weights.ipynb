{
 "cells": [
  {
   "cell_type": "code",
   "execution_count": 3,
   "metadata": {},
   "outputs": [
    {
     "data": {
      "text/plain": [
       "'C:\\\\Users\\\\bravo\\\\PycharmProjects\\\\armory\\\\aise_eval\\\\model_weights'"
      ]
     },
     "execution_count": 3,
     "metadata": {},
     "output_type": "execute_result"
    }
   ],
   "source": [
    "import os\n",
    "os.getcwd()"
   ]
  },
  {
   "cell_type": "code",
   "execution_count": 6,
   "metadata": {},
   "outputs": [],
   "source": [
    "import torch,pickle\n",
    "checkpoint = torch.load(\"mnistmodel.pt\",map_location=\"cuda\")\n",
    "with open(\"train_less_data.pkl\",\"rb\") as f:\n",
    "    train_data = pickle.load(f)\n",
    "with open(\"train_less_targets.pkl\",\"rb\") as f:\n",
    "    train_targets = pickle.load(f)"
   ]
  },
  {
   "cell_type": "code",
   "execution_count": 9,
   "metadata": {},
   "outputs": [],
   "source": [
    "checkpoint[\"train_data\"] = train_data\n",
    "checkpoint[\"train_targets\"] = train_targets"
   ]
  },
  {
   "cell_type": "code",
   "execution_count": 12,
   "metadata": {},
   "outputs": [
    {
     "name": "stdout",
     "output_type": "stream",
     "text": [
      "Help on function save in module torch.serialization:\n",
      "\n",
      "save(obj, f, pickle_module=<module 'pickle' from 'c:\\\\users\\\\bravo\\\\appdata\\\\local\\\\programs\\\\python\\\\python37\\\\lib\\\\pickle.py'>, pickle_protocol=2, _use_new_zipfile_serialization=False)\n",
      "    Saves an object to a disk file.\n",
      "    \n",
      "    See also: :ref:`recommend-saving-models`\n",
      "    \n",
      "    Args:\n",
      "        obj: saved object\n",
      "        f: a file-like object (has to implement write and flush) or a string\n",
      "           containing a file name\n",
      "        pickle_module: module used for pickling metadata and objects\n",
      "        pickle_protocol: can be specified to override the default protocol\n",
      "    \n",
      "    .. warning::\n",
      "        If you are using Python 2, :func:`torch.save` does NOT support :class:`StringIO.StringIO`\n",
      "        as a valid file-like object. This is because the write method should return\n",
      "        the number of bytes written; :meth:`StringIO.write()` does not do this.\n",
      "    \n",
      "        Please use something like :class:`io.BytesIO` instead.\n",
      "    \n",
      "    Example:\n",
      "        >>> # Save to file\n",
      "        >>> x = torch.tensor([0, 1, 2, 3, 4])\n",
      "        >>> torch.save(x, 'tensor.pt')\n",
      "        >>> # Save to io.BytesIO buffer\n",
      "        >>> buffer = io.BytesIO()\n",
      "        >>> torch.save(x, buffer)\n",
      "\n"
     ]
    }
   ],
   "source": [
    "help(torch.save)"
   ]
  },
  {
   "cell_type": "code",
   "execution_count": 13,
   "metadata": {},
   "outputs": [],
   "source": [
    "torch.save(checkpoint,\"mnist_rails_test.pt\")"
   ]
  },
  {
   "cell_type": "code",
   "execution_count": 2,
   "metadata": {},
   "outputs": [
    {
     "data": {
      "text/plain": [
       "numpy.ndarray"
      ]
     },
     "execution_count": 2,
     "metadata": {},
     "output_type": "execute_result"
    }
   ],
   "source": [
    "import torch,pickle\n",
    "checkpoint = torch.load(\"mnist_rails_test.pt\",map_location=\"cuda\")\n",
    "checkpoint[\"train_data\"].__class__"
   ]
  }
 ],
 "metadata": {
  "kernelspec": {
   "display_name": "Python 3",
   "language": "python",
   "name": "python3"
  },
  "language_info": {
   "codemirror_mode": {
    "name": "ipython",
    "version": 3
   },
   "file_extension": ".py",
   "mimetype": "text/x-python",
   "name": "python",
   "nbconvert_exporter": "python",
   "pygments_lexer": "ipython3",
   "version": "3.7.6"
  }
 },
 "nbformat": 4,
 "nbformat_minor": 4
}
